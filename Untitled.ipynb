{
 "cells": [
  {
   "cell_type": "code",
   "execution_count": 2,
   "id": "43e525fc-8ee5-4595-bef7-aee0a750a80b",
   "metadata": {},
   "outputs": [],
   "source": [
    "# general imports\n",
    "import matplotlib.pyplot as plt\n",
    "# magic word for producing visualizations in notebook\n",
    "%matplotlib inline\n",
    "import string\n",
    "import time\n",
    "import numpy as np\n",
    "\n",
    "# AWS imports: Import Braket SDK modules\n",
    "from braket.circuits import Circuit, Gate, Observable\n",
    "from braket.devices import LocalSimulator\n",
    "from braket.aws import AwsDevice"
   ]
  },
  {
   "cell_type": "code",
   "execution_count": 3,
   "id": "0ed21aa2-8d85-4a79-b661-28d60480a0be",
   "metadata": {},
   "outputs": [
    {
     "data": {
      "text/plain": [
       "Circuit('instructions': [Instruction('operator': H('qubit_count': 1), 'target': QubitSet([Qubit(0)])), Instruction('operator': CNot('qubit_count': 2), 'target': QubitSet([Qubit(0), Qubit(1)]))])"
      ]
     },
     "execution_count": 3,
     "metadata": {},
     "output_type": "execute_result"
    }
   ],
   "source": [
    "circuit = Circuit()\n",
    "circuit.h(0)\n",
    "circuit.cnot(0,1)"
   ]
  },
  {
   "cell_type": "code",
   "execution_count": 4,
   "id": "6083758b-423b-43c4-90cf-49e141e4bba8",
   "metadata": {},
   "outputs": [],
   "source": [
    "device = LocalSimulator()"
   ]
  },
  {
   "cell_type": "code",
   "execution_count": 6,
   "id": "71760acd-6155-40ef-84ca-5973cf613d7c",
   "metadata": {},
   "outputs": [
    {
     "name": "stdout",
     "output_type": "stream",
     "text": [
      "Counter({'00': 506, '11': 494})\n"
     ]
    }
   ],
   "source": [
    "\n",
    "# run circuit\n",
    "result = device.run(circuit, shots=1000).result()\n",
    "# get measurement shots\n",
    "counts = result.measurement_counts\n",
    "# print counts\n",
    "print(counts)"
   ]
  },
  {
   "cell_type": "code",
   "execution_count": null,
   "id": "310c7d38-33fd-45ee-92b0-79bb0f7d65ed",
   "metadata": {},
   "outputs": [],
   "source": []
  }
 ],
 "metadata": {
  "kernelspec": {
   "display_name": "SageMath 9.3",
   "language": "sage",
   "name": "sagemath"
  },
  "language_info": {
   "codemirror_mode": {
    "name": "ipython",
    "version": 3
   },
   "file_extension": ".py",
   "mimetype": "text/x-python",
   "name": "python",
   "nbconvert_exporter": "python",
   "pygments_lexer": "ipython3",
   "version": "3.9.7"
  }
 },
 "nbformat": 4,
 "nbformat_minor": 5
}
