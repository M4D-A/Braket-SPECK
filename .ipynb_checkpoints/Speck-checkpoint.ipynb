{
 "cells": [
  {
   "cell_type": "markdown",
   "id": "4beb9710-3877-4c04-90ca-da0a074f5b9d",
   "metadata": {
    "tags": []
   },
   "source": [
    "# Cracking block ciphers with Quantum Search Grover's Algorithm\n",
    "In this Notebook we carry a simple known-plaintext attack (KPA) on a 4-bit simplifcation of ARX cipher „Speck”. We provide an approachable explanation for constructing a system of equations describing key extraction using known plaintext-ciphertext pair and cipher description. Then we propose a straight-forward preface for understaing the basics of the search algorithm and how to use it to solve the equations system, thus restoring the utilized key. Afterwards we conduct a series of computations, using both a real quantum computer and a quantum computer simulation. We analyze complexity of those computations in terms of register size, time consumption, quantity of utilized quantum gates as well as their breadths. Pinpointing those values is crucial for understaing imminent hazards looming over post-quantum security of symmetric cryptography and defining allowed thresholds of advancements, before deciding whether some of commonly used standards should be considered insecure and ameliorated to meet up the requirements. "
   ]
  },
  {
   "cell_type": "markdown",
   "id": "c49e72ca-7808-4532-abbf-b2982074f6b0",
   "metadata": {},
   "source": [
    "Required knowledge and skills:\n",
    "- Basic boolean algebra and boolean polynomials;\n",
    "- Understanding of elementary quantum gates:\n",
    "    - Negation **NOT / X**;\n",
    "    - Hadamard gate **H**;\n",
    "    - Rotations (**X, Z**);\n",
    "    - Controled negation (**CNOT**);\n",
    "    - Multiple control qubits gates like **NOT** and **Z** (**MCX**, **MCZ**);\n",
    "- Basic understanding of Grover's Algorithm and Quantum Oracles;\n",
    "- Core knowledge of AWS Braket ecosystem - S3, Braket SDK, quantum devices like simiulators and QPU's;\n",
    "- Sage maths framework.\n",
    "\n",
    "Most of those topics can be found in examples provided at:\n",
    "- https://github.com/aws/amazon-braket-examples\n",
    "- https://www.sagemath.org/"
   ]
  },
  {
   "cell_type": "markdown",
   "id": "5c4a779f-778e-4f49-9718-eec803b8c901",
   "metadata": {
    "tags": []
   },
   "source": [
    "## Cipher description\n",
    "We will start with a quick description of the cipher which we will crack. **\"Speck\"** is a block cipher from **ARX** family, which stands for *ADD, ROTATE, XOR* - the only operations used in this kind of encryption. The image below represents flow of the cipher."
   ]
  },
  {
   "cell_type": "markdown",
   "id": "8972080b-897f-412e-9560-d4cc5b2c1838",
   "metadata": {},
   "source": [
    "<img src=\"Speck.png\" alt=\"drawing\" width=\"400\"/>\n",
    "Source: en.wikipedia.org"
   ]
  },
  {
   "cell_type": "markdown",
   "id": "08e26c2b-c0d3-46b1-a634-8af74d3310cf",
   "metadata": {},
   "source": [
    "The algorithm is divied into two separate subroutines - **Key Schedule** (in grey) and **Encrytpion Rounds** (in yellow), both of them operate on two words, each half the size of encrypted block. First subroutine operates on words *K1, K2* and provides *Round Keys*. Those are then *XOR'ed* into encrytpted data to whiten it. The latter scrambles *Plain Text* - *PT1, PT2* and produces *Cipher Text* - *CT1, CT2*. One can easily notice that both subroutines are actually composed from identical transformations, the difference is that in **Encryption Rounds** values which are *XOR'ed* into during the process come from output of **Key Schedule** and values (nonces) *XOR'ed* into **Key Schedule** are constant, namely subsequent integers starting with (0, 1, 2, ...) in theirs binary representations. Thus, for the moment we can simplify the description of the cipher and substitute those transformations with a single block - *FOO*."
   ]
  },
  {
   "cell_type": "markdown",
   "id": "a374fdeb-6042-466d-b4ee-4295aa2120a7",
   "metadata": {},
   "source": [
    "<img src=\"SpeckFoo.png\" alt=\"drawing\" width=\"400\"/>"
   ]
  },
  {
   "cell_type": "markdown",
   "id": "e2e5496d-776d-4154-a704-00bfb67631d6",
   "metadata": {},
   "source": [
    "Where *FOO* block accepts three input words - here we will call them *Left, Right and Side*."
   ]
  },
  {
   "cell_type": "markdown",
   "id": "66e3e634-e76e-4eb1-a06b-93e0882c06c1",
   "metadata": {},
   "source": [
    "### Initial imports"
   ]
  },
  {
   "cell_type": "code",
   "execution_count": 1,
   "id": "adf65bd4-8456-4621-a3fa-e42cf3474de1",
   "metadata": {},
   "outputs": [],
   "source": [
    "#AWS and Braket SDK imports.\n",
    "import boto3\n",
    "from braket.circuits import circuit, Circuit, Gate, Instruction\n",
    "from braket.devices import LocalSimulator\n",
    "from braket.aws import AwsDevice\n",
    "\n",
    "#Cartesian product, math functions, complex numbers, Sage binary polynomials.\n",
    "from itertools import product\n",
    "from math import log, sqrt, pi, floor\n",
    "from cmath import phase\n",
    "from sage.rings.polynomial.pbori import declare_ring, Block\n",
    "\n",
    "#Matplotlib\n",
    "import matplotlib.pyplot as plt\n",
    "%matplotlib inline"
   ]
  },
  {
   "cell_type": "markdown",
   "id": "4abae5ec-f237-49a3-b0c7-0bfef59b674f",
   "metadata": {
    "tags": []
   },
   "source": [
    "## Construction of Algebraic Model\n",
    "Knowing how the cipher works, our next step is to derive binary polynomials which describe values of output in terms of input values. To generate those at first we will implement basic operations used in the cipher - *ADD, ROTATE, XOR*. Those operations will accept input in form of a list of elements from Modulo 2 Field *(F2)*."
   ]
  },
  {
   "cell_type": "code",
   "execution_count": 2,
   "id": "ab4a785f-5e20-4b13-86e6-ea676c61e4f6",
   "metadata": {},
   "outputs": [],
   "source": [
    "def rotate(reg, rot_n):\n",
    "    rot_n = rot_n % len(reg)\n",
    "    return tuple(reg[rot_n:] + reg[:rot_n])\n",
    "\n",
    "def xor(l_reg, r_reg):\n",
    "    assert len(l_reg) == len(r_reg)\n",
    "    return tuple([ l+r for l,r in zip(l_reg, r_reg) ]) \n",
    "\n",
    "def add(l_reg, r_reg):\n",
    "    assert len(l_reg) == len(r_reg)\n",
    "    c = 0\n",
    "    result = list()\n",
    "    for l, r in zip(l_reg, r_reg):\n",
    "        s = c + l + r\n",
    "        c = (l*r) + (c*(l+r))\n",
    "        result.append(s)\n",
    "    return tuple(result)"
   ]
  },
  {
   "cell_type": "markdown",
   "id": "e548a62b-4f6a-4adb-97cf-04debfb54e63",
   "metadata": {},
   "source": [
    "**Notice**: Since data structure we are operating on is a list of *F2* elements we implement addition basing on one bit full-adders"
   ]
  },
  {
   "cell_type": "markdown",
   "id": "2408b391-679c-48fb-bacf-65343dabc95c",
   "metadata": {},
   "source": [
    "To test those we declare elements from *F2*, we define arbitrary input from them and call the functions:"
   ]
  },
  {
   "cell_type": "code",
   "execution_count": 3,
   "id": "85f466a4-5d30-40ed-b2b0-64e9cc032b1c",
   "metadata": {},
   "outputs": [
    {
     "name": "stdout",
     "output_type": "stream",
     "text": [
      "rotate(left, Integer(1)) = (0, 1, 0, 1)\n",
      "xor(left, right) = (1, 0, 0, 1)\n",
      "add(left, right) = (1, 0, 0, 0)\n"
     ]
    }
   ],
   "source": [
    "F = GF(2) #Modulo 2 Field - F2\n",
    "O, I = F(0), F(1) #F2 elements - 0,1\n",
    "\n",
    "left = (I, O, I, O)  #5 - left element is least significant\n",
    "right = (O, O, I, I) #12\n",
    "\n",
    "print( f'{rotate(left, 1) = }' )  # Expected output: (0,1,0,1)\n",
    "print( f'{xor(left, right) = }' ) # Expected output: (1,0,0,1)\n",
    "print( f'{add(left, right) = }' ) # Expected output: (1,0,0,0) (5 + 12 = 17 = 1 mod 16)"
   ]
  },
  {
   "cell_type": "markdown",
   "id": "a75e4204-eaad-40a7-a47b-2cf1505723e6",
   "metadata": {},
   "source": [
    "Now, having implemented basic operations we will compose them into *FOO* block"
   ]
  },
  {
   "cell_type": "code",
   "execution_count": 4,
   "id": "298f14f6-b91f-43e8-98f7-34d0995f72b7",
   "metadata": {},
   "outputs": [],
   "source": [
    "def foo(left, right, side, left_rotation = 1, right_rotation = 1):\n",
    "    assert len(left) == len(right)\n",
    "    assert len(right) == len(side)\n",
    "    \n",
    "    left = rotate(left, left_rotation)\n",
    "    left = add(left, right)\n",
    "    left = xor(left, side)\n",
    "    right = rotate(right, right_rotation)\n",
    "    right = xor(left, right)\n",
    "    return (left, right)"
   ]
  },
  {
   "cell_type": "markdown",
   "id": "b395063e-ce66-4f35-b2f3-ff2f6fc0aec8",
   "metadata": {},
   "source": [
    "And here is an example "
   ]
  },
  {
   "cell_type": "code",
   "execution_count": 5,
   "id": "c7661bdd-9b8b-4233-8b07-41c668f105ec",
   "metadata": {},
   "outputs": [
    {
     "name": "stdout",
     "output_type": "stream",
     "text": [
      "((1, 1, 1, 0), (1, 0, 0, 0))\n"
     ]
    }
   ],
   "source": [
    "left = (I, O, I, O)  #5\n",
    "right = (O, O, I, I) #12\n",
    "side = (I, O, O, O) #1\n",
    "\n",
    "print( foo(left, right, side) )"
   ]
  },
  {
   "cell_type": "markdown",
   "id": "6de9719a-3609-4aa7-b99d-ce32934a9930",
   "metadata": {},
   "source": [
    "Further, we implement and test whole encryption algorithm"
   ]
  },
  {
   "cell_type": "code",
   "execution_count": 6,
   "id": "7e228553-b676-41ac-85bc-f88d9c3d51bc",
   "metadata": {},
   "outputs": [],
   "source": [
    "def encrypt(K1, K2, PT1, PT2, rounds, left_rotation = 1, right_rotation = 1):\n",
    "    word_size = len(K1)\n",
    "    assert len(K2) == word_size\n",
    "    assert len(PT1) == word_size\n",
    "    assert len(PT2) == word_size\n",
    "\n",
    "    nonces = list( product( (O, I), repeat = word_size ) ) #This generates consecutive integers in binary representation (nonces)\n",
    "    assert rounds < len(nonces)\n",
    "    \n",
    "    for i, nonce in zip( range(rounds - 1), nonces):\n",
    "        PT1, PT2 = foo(PT1, PT2, K2, left_rotation, right_rotation)\n",
    "        K1, K2 = foo(K1, K2, nonce, left_rotation, right_rotation)\n",
    "    \n",
    "    PT1, PT2 = foo(PT1, PT2, K2, left_rotation, right_rotation)\n",
    "    \n",
    "    return (PT1, PT2)   "
   ]
  },
  {
   "cell_type": "code",
   "execution_count": 7,
   "id": "ea0a010f-cbf3-45f1-bedb-9008bee12692",
   "metadata": {},
   "outputs": [
    {
     "data": {
      "text/plain": [
       "((1, 0, 1, 1), (1, 0, 0, 0))"
      ]
     },
     "execution_count": 7,
     "metadata": {},
     "output_type": "execute_result"
    }
   ],
   "source": [
    "K1 = (I, O, I, O)  #5\n",
    "K2 = (O, O, I, I) #12\n",
    "PT1 = (I, O, O, O) #1\n",
    "PT2 = (I, O, O, I) #9\n",
    "rounds = 1\n",
    "encrypt(K1, K2, PT1, PT2, rounds)"
   ]
  },
  {
   "cell_type": "markdown",
   "id": "4c2b3440-c8a0-430f-9c42-b21e9aa5024f",
   "metadata": {},
   "source": [
    "At this moment we have whole encrytpion algorithm ready to use, which works for constant input values. Our goal is to use the very same algorithm to compute polynomials describing *Cipher Text* values. \n",
    "\n",
    "To achieve this, we declare binary polynomial ring with 4 variables for *Key* and 4 variables for *Plain Text* - This allows us to use the same procedures but with variables rather than constants."
   ]
  },
  {
   "cell_type": "code",
   "execution_count": 8,
   "id": "a7ea1342-e9cc-4a72-89c1-5aaa29dfbb3b",
   "metadata": {},
   "outputs": [
    {
     "name": "stdout",
     "output_type": "stream",
     "text": [
      "(k(0), k(1), k(2), k(3))\n",
      "(p(0), p(1), p(2), p(3))\n"
     ]
    }
   ],
   "source": [
    "R = declare_ring( [Block('k', 4), Block('p', 4)] )\n",
    "\n",
    "K = R.gens()[0:4]\n",
    "P = R.gens()[4:8]\n",
    "\n",
    "print(K) #List of all (4) key vairables\n",
    "print(P) #List of all (4) plaintext variables"
   ]
  },
  {
   "cell_type": "markdown",
   "id": "373152a7-6610-4b4d-81cb-d6c2edb72be0",
   "metadata": {},
   "source": [
    "Since we want to attack 4 bit version of the cipher we split those variables into respecting words, 2 bits each:"
   ]
  },
  {
   "cell_type": "code",
   "execution_count": 9,
   "id": "26846ba3-63bc-4300-a67c-e02977ad2818",
   "metadata": {},
   "outputs": [],
   "source": [
    "K1 = K[0:2]\n",
    "K2 = K[2:4]\n",
    "PT1 = P[0:2]\n",
    "PT2 = P[2:4]"
   ]
  },
  {
   "cell_type": "markdown",
   "id": "89c8dbc2-8935-4320-bebc-515ed02e67c6",
   "metadata": {},
   "source": [
    "We can check how those polynomials look for atomic operations and single FOO block:"
   ]
  },
  {
   "cell_type": "code",
   "execution_count": 10,
   "id": "59dbb7aa-4b29-439f-aed5-4a3dbd8e9c62",
   "metadata": {},
   "outputs": [
    {
     "name": "stdout",
     "output_type": "stream",
     "text": [
      "rotation output:\n",
      "o(0) = p(1)\n",
      "o(1) = p(0)\n",
      "\n",
      "xor output:\n",
      "o(0) = p(0) + p(2)\n",
      "o(1) = p(1) + p(3)\n",
      "\n",
      "add output:\n",
      "o(0) = p(0) + p(2)\n",
      "o(1) = p(0)*p(2) + p(1) + p(3)\n",
      "\n",
      "foo output:\n",
      "o(0) = k(2) + p(1) + p(2)\n",
      "o(1) = k(3) + p(0) + p(1)*p(2) + p(3)\n",
      "o(2) = k(2) + p(1) + p(2) + p(3)\n",
      "o(3) = k(3) + p(0) + p(1)*p(2) + p(2) + p(3)\n"
     ]
    }
   ],
   "source": [
    "rot_output = rotate(PT1, 1)\n",
    "xor_output = xor(PT1, PT2)\n",
    "add_output = add(PT1, PT2)\n",
    "foo_output_1, foo_output_2 = foo(PT1, PT2, K2) #foo returns two words\n",
    "\n",
    "print(f'rotation output:')\n",
    "for i, output_bit_poly in enumerate(rot_output):\n",
    "    print(f'o({i}) = {output_bit_poly}')\n",
    "print()\n",
    "\n",
    "print(f'xor output:')\n",
    "for i, output_bit_poly in enumerate(xor_output):\n",
    "    print(f'o({i}) = {output_bit_poly}')\n",
    "print()\n",
    "\n",
    "print(f'add output:')\n",
    "for i, output_bit_poly in enumerate(add_output):\n",
    "    print(f'o({i}) = {output_bit_poly}')\n",
    "print()\n",
    "\n",
    "print(f'foo output:')\n",
    "for i, output_bit_poly in enumerate(foo_output_1):\n",
    "    print(f'o({i}) = {output_bit_poly}')\n",
    "for i, output_bit_poly in enumerate(foo_output_2):\n",
    "    print(f'o({i + 2}) = {output_bit_poly}')"
   ]
  },
  {
   "cell_type": "markdown",
   "id": "b06e8bb8-21b2-4832-8638-58736c6c6408",
   "metadata": {},
   "source": [
    "And finally use encryption algorithm to achieve *Cipher Text* polynomials"
   ]
  },
  {
   "cell_type": "code",
   "execution_count": 11,
   "id": "50855351-a8ba-4339-a439-a50d84598c73",
   "metadata": {},
   "outputs": [
    {
     "name": "stdout",
     "output_type": "stream",
     "text": [
      "Cipher Text Polynomials:\n",
      "c(0) = k(1) + p(0) + p(1)*p(2) + p(1) + p(2)\n",
      "c(1) = k(0) + k(1)*k(2) + k(2)*k(3) + k(2)*p(0) + k(2)*p(1)*p(2) + k(2)*p(3) + k(3)*p(1) + k(3)*p(2) + k(3)*p(3) + p(0)*p(1) + p(0)*p(2) + p(0)*p(3) + p(0) + p(1)*p(2)*p(3) + p(1)*p(2) + p(1)*p(3) + p(1) + p(2)*p(3)\n",
      "c(2) = k(1) + k(3) + p(1) + p(3)\n",
      "c(3) = k(0) + k(1)*k(2) + k(2)*k(3) + k(2)*p(0) + k(2)*p(1)*p(2) + k(2)*p(3) + k(2) + k(3)*p(1) + k(3)*p(2) + k(3)*p(3) + p(0)*p(1) + p(0)*p(2) + p(0)*p(3) + p(0) + p(1)*p(2)*p(3) + p(1)*p(2) + p(1)*p(3) + p(2)*p(3) + p(2) + p(3)\n"
     ]
    }
   ],
   "source": [
    "rounds = 2\n",
    "CP1, CP2 = encrypt(K1, K2, PT1, PT2, rounds)\n",
    "CP = (*CP1, *CP2) #Ciphertext Polynomials\n",
    "\n",
    "print(f'Cipher Text Polynomials:')\n",
    "for i, c in enumerate(CP):\n",
    "    print(f\"c({i}) = {c}\")"
   ]
  },
  {
   "cell_type": "markdown",
   "id": "646cdf95-3c02-49ee-bc8e-a18064319209",
   "metadata": {
    "tags": []
   },
   "source": [
    "## Defining equation system\n",
    "Having full mathematical model for the cipher, we have to acquire a coresponding *Plain Text - Cipher Text* pair, which we will use to create appropriate equation system. In case of real attack, this pair has to be somehow intercepted, but here we have the comfort of possibility to create our own. We can use either **encrypt** function *OR* *Cipher Text* polynomials."
   ]
  },
  {
   "cell_type": "markdown",
   "id": "4111d45f-75cb-4951-837b-3ca5f7432365",
   "metadata": {
    "tags": []
   },
   "source": [
    "#### Using **encrypt** function:"
   ]
  },
  {
   "cell_type": "code",
   "execution_count": 12,
   "id": "6437bb37-4b51-4d79-ae26-123045bbb408",
   "metadata": {},
   "outputs": [
    {
     "name": "stdout",
     "output_type": "stream",
     "text": [
      "CT = (1, 1, 1, 1)\n"
     ]
    }
   ],
   "source": [
    "K1 = (I, O) \n",
    "K2 = (I, O) #Our secret key, which we will try to recover is (1,0,1,0)\n",
    "PT1 = (I, O)\n",
    "PT2 = (O, I)\n",
    "rounds = 2\n",
    "CT1, CT2 = encrypt(K1, K2, PT1, PT2, rounds)\n",
    "CT = (*CT1, *CT2)\n",
    "print(f\"{CT = }\")"
   ]
  },
  {
   "cell_type": "markdown",
   "id": "1a68deaa-a3dd-4f3f-b1a0-949ed665bf91",
   "metadata": {},
   "source": [
    "#### Using polynomials:"
   ]
  },
  {
   "cell_type": "code",
   "execution_count": 13,
   "id": "bdde5926-e17a-4f06-9524-5eef50ab4f27",
   "metadata": {},
   "outputs": [
    {
     "name": "stdout",
     "output_type": "stream",
     "text": [
      "CT = [1, 1, 1, 1]\n"
     ]
    }
   ],
   "source": [
    "K1 = (I, O)\n",
    "K2 = (I, O)\n",
    "PT1 = (I, O)\n",
    "PT2 = (O, I)\n",
    "CT = [ cp(*K1, *K2, *PT1, *PT2) for cp in CP ]\n",
    "print(f\"{CT = }\")"
   ]
  },
  {
   "cell_type": "markdown",
   "id": "cd0153b3-7961-4577-b252-dcd6b43aaa39",
   "metadata": {},
   "source": [
    "Now, we will use this pair to create equation system. To do this, we have to apply known *Plain Text* as input, *Key* as variables and compare it to the output - *Cipher Text*. Comparison of two values in F2 can be achieved by adding (xoring) them and comparing them to 0."
   ]
  },
  {
   "cell_type": "code",
   "execution_count": 14,
   "id": "b3f6c918-2014-4591-9737-ff41a4ad6f7f",
   "metadata": {},
   "outputs": [
    {
     "name": "stdout",
     "output_type": "stream",
     "text": [
      "e0: k(1)\n",
      "e1: k(0) + k(1)*k(2) + k(2)*k(3) + k(3) + 1\n",
      "e2: k(1) + k(3)\n",
      "e3: k(0) + k(1)*k(2) + k(2)*k(3) + k(2) + k(3)\n"
     ]
    }
   ],
   "source": [
    "K1 = K[0:2] #Unknown\n",
    "K2 = K[2:4] #Unknown\n",
    "PT1 = (I, O)\n",
    "PT2 = (O, I)\n",
    "ES = [ cp(*K1, *K2, *PT1, *PT2) + ct for cp, ct in zip(CP, CT) ] #Equation System\n",
    "for i, e in enumerate(ES):\n",
    "    print(f\"e{i}: {e}\")"
   ]
  },
  {
   "cell_type": "markdown",
   "id": "e708cc01-5232-4418-ae2a-fa26d4b0d363",
   "metadata": {},
   "source": [
    "Here, we can check wether the system is correct by aplying known key - in real scenario it is impossible because we dont have access to the key, yet, it would be in a good measure to conduct this step with fabricated values just to validate the model."
   ]
  },
  {
   "cell_type": "code",
   "execution_count": 15,
   "id": "274a5148-663a-4369-9f06-7ab688a76c0f",
   "metadata": {},
   "outputs": [
    {
     "name": "stdout",
     "output_type": "stream",
     "text": [
      "[0, 0, 0, 0]\n"
     ]
    }
   ],
   "source": [
    "K1 = (I, O)\n",
    "K2 = (I, O)\n",
    "Verify = [ e(*K1, *K2, O, O, O, O) for e in ES ]  #last 4 zeroes are insignifcant place-holders for plain-text variables and don't affect the outcome.\n",
    "print(Verify)"
   ]
  },
  {
   "cell_type": "markdown",
   "id": "ad1f8ca1-a971-4c19-ad47-cd1ce2b4c47d",
   "metadata": {},
   "source": [
    "Acquiring all-zero list means that key value satisfies the equation system proving it is a correct one to use for key extraction. "
   ]
  },
  {
   "cell_type": "markdown",
   "id": "1dbcc12f-86d6-4dae-974b-2b1fd52a760c",
   "metadata": {},
   "source": [
    "## Solving the system\n"
   ]
  },
  {
   "cell_type": "markdown",
   "id": "aa194fa5-022c-4118-914f-a59252e27867",
   "metadata": {},
   "source": [
    "The final step is to solve the system using quantum Grover's Algorithm. We will start with some standard procedures like definig devices, *S3* varibales, etc."
   ]
  },
  {
   "cell_type": "code",
   "execution_count": 16,
   "id": "206bf6dc-2a99-4891-bf41-f64343abf96e",
   "metadata": {},
   "outputs": [],
   "source": [
    "my_bucket = \"amazon-braket-bucket-name\" # the name of the bucket\n",
    "my_prefix = \"folder-name\" # the name of the folder in the bucket\n",
    "\n",
    "s3_folder = (my_bucket, my_prefix)\n",
    "#sv_device = AwsDevice(\"arn:aws:braket:::device/quantum-simulator/amazon/sv1\")\n",
    "#ionq_device = AwsDevice(\"arn:aws:braket:::device/qpu/ionq/ionQdevice\")\n",
    "device = LocalSimulator()"
   ]
  },
  {
   "cell_type": "markdown",
   "id": "29fd9a36-913a-4cb5-9f34-5617b3c1c1e7",
   "metadata": {},
   "source": [
    "The algorithm requires two families of multiply-controled gates (subroutines) which are not supported natively by IonQ QPU, therefore they has to be constructed from **CNOT** and single qubit gates:\n",
    "- **Toffoli Gate / CCNOT** - CNOT expansion with two control qubits instead of one;\n",
    "- **MCZ** - Multiply controled **Z** rotation\n",
    "- **MCX** - Multiply controled negation or **X** rotation by $\\theta = \\pi$. "
   ]
  },
  {
   "cell_type": "markdown",
   "id": "effede10-a38b-417f-813e-698b1a811f4e",
   "metadata": {},
   "source": [
    "Toffoli gate using **CNOT** and **T / T'** gates can be decompsed as follows:"
   ]
  },
  {
   "cell_type": "markdown",
   "id": "38546a02-b41b-435a-8adb-92066c94cde2",
   "metadata": {},
   "source": [
    "<img src=\"Toffoli.png\" alt=\"drawing\" width=\"600\"/>\n",
    "Source: en.wikipedia.org"
   ]
  },
  {
   "cell_type": "code",
   "execution_count": 17,
   "id": "0bf5745f-d4d1-48f3-8d20-8142b66f9d44",
   "metadata": {},
   "outputs": [
    {
     "name": "stdout",
     "output_type": "stream",
     "text": [
      "T  : |0|1|2 |3|4|5|6 |7|8|9 |10|\n",
      "                                \n",
      "q1 : --------C--------C-C-T--C--\n",
      "             |        | |    |  \n",
      "q2 : ---C----|---C-T--|-X-Ti-X--\n",
      "        |    |   |    |         \n",
      "q3 : -H-X-Ti-X-T-X-Ti-X-T-H-----\n",
      "\n",
      "T  : |0|1|2 |3|4|5|6 |7|8|9 |10|\n"
     ]
    }
   ],
   "source": [
    "@circuit.subroutine(register=True)\n",
    "def toffoli(controls, target):\n",
    "    assert len(controls) == 2\n",
    "    circ = Circuit()\n",
    "    c0, c1 = controls\n",
    "    circ.h(target)\n",
    "    circ.cnot(c1, target)\n",
    "    circ.ti(target)\n",
    "    circ.cnot(c0, target)\n",
    "    circ.t(target)\n",
    "    circ.cnot(c1, target)\n",
    "    circ.ti(target)\n",
    "    circ.cnot(c0, target)\n",
    "    circ.t(c1)\n",
    "    circ.t(target)\n",
    "    circ.cnot(c0, c1)\n",
    "    circ.h(target)\n",
    "    circ.t(c0)\n",
    "    circ.ti(c1)\n",
    "    circ.cnot(c0, c1)\n",
    "    return circ\n",
    "\n",
    "my_circuit = Circuit().toffoli([1, 2], 3)\n",
    "print(my_circuit)"
   ]
  },
  {
   "cell_type": "markdown",
   "id": "72556217-8fa7-4d92-ae40-f60bc5f1e971",
   "metadata": {},
   "source": [
    "After that, we implement **MCZ** recursively using **CNOT** gates and **Z** rotations, we can acquire **MCZ** gate with *n* control qubits using **MCZ** gate with *(n-1)* control qubits. This decomposition is basing on properties of Gray's code, full explanation can be found in article: https://aaltodoc.aalto.fi/bitstream/handle/123456789/2551/article5.pdf?sequence=6&isAllowed=y"
   ]
  },
  {
   "cell_type": "markdown",
   "id": "961d2784-f9d8-4ea6-8703-858d06e4cd0f",
   "metadata": {},
   "source": [
    "To do this we will need a function that finds highest power of 2 that divides integer n. It is needed for finding indices of control qubits according to Gray's code representation proposed in article above:"
   ]
  },
  {
   "cell_type": "code",
   "execution_count": 18,
   "id": "12d49b2b-97bc-4951-ad22-26348703c5ab",
   "metadata": {},
   "outputs": [
    {
     "name": "stdout",
     "output_type": "stream",
     "text": [
      "pow_2_divisor(Integer(48)) = 4\n",
      "pow_2_divisor(Integer(8)) = 3\n",
      "pow_2_divisor(Integer(21)) = 0\n"
     ]
    }
   ],
   "source": [
    "def pow_2_divisor(n): #Returns highest power of 2 which divides given integer\n",
    "    n = int(n) #Conversion from Sage-integer to standard int\n",
    "    return int(log(n & (~(n - int(1))), 2))\n",
    "\n",
    "print(f'{pow_2_divisor(48) = }') # 48 = 2^4 * 3 -> expected return is 4\n",
    "print(f'{pow_2_divisor(8) = }')  # 8 = 2^3 -> expected return is 3\n",
    "print(f'{pow_2_divisor(21) = }') # 21 = 2^0 * 3 * 7 -> expected return is 0"
   ]
  },
  {
   "cell_type": "code",
   "execution_count": 19,
   "id": "908402b4-62de-4d7b-a9fb-5d04b8bb89fb",
   "metadata": {},
   "outputs": [
    {
     "name": "stdout",
     "output_type": "stream",
     "text": [
      "T  : |    0    |1|    2     |3|    4    |5|    6     |7|    8    |9|    10    |11|   12    |\n",
      "                                                                                            \n",
      "q1 : -Rz(0.785)-C------------C------------------------C------------------------C------------\n",
      "                |            |                        |                        |            \n",
      "q2 : -----------X-Rz(-0.785)-X-Rz(0.785)-C------------|-----------C------------|------------\n",
      "                                         |            |           |            |            \n",
      "q3 : ------------------------------------X-Rz(-0.785)-X-Rz(0.785)-X-Rz(-0.785)-X--Rz(0.785)-\n",
      "\n",
      "T  : |    0    |1|    2     |3|    4    |5|    6     |7|    8    |9|    10    |11|   12    |\n"
     ]
    }
   ],
   "source": [
    "@circuit.subroutine(register=True)\n",
    "def mcz(controls, theta = pi):\n",
    "    lc = len(controls)\n",
    "    circ = Circuit()\n",
    "    if lc > 1:\n",
    "        circ.mcz(controls[:-1], theta/2) #MCZ gate with one less control qubit\n",
    "        theta = theta / pow(2, lc-1)\n",
    "        circ.cnot(controls[-2], controls[-1])\n",
    "        for i in range(1, pow(2, lc-1)):\n",
    "            circ.rz(controls[-1], theta*pow(-1,i))\n",
    "            index = pow_2_divisor(i)\n",
    "            circ.cnot(controls[index], controls[-1])\n",
    "        circ.rz(controls[-1], theta)\n",
    "    else:\n",
    "        circ.rz(controls[0], theta) # Base case, when there is only one qubit left\n",
    "    return circ\n",
    "\n",
    "my_circuit = Circuit().mcz([1, 2, 3])\n",
    "print(my_circuit)"
   ]
  },
  {
   "cell_type": "markdown",
   "id": "8118ac84-605c-4e74-add8-c029cb30c34d",
   "metadata": {},
   "source": [
    "The last required multiply controled gate is **MCX**, which:\n",
    "- for zero control qubits is equivalent with standard negation - **NOT** gate;\n",
    "- for single control qubit is equivalent with **CNOT**;\n",
    "- for two control qubits it is equivalent with **Toffoli / CCNOT** gate;\n",
    "- for n > 2 control qubits it can be obtained with *(n+1)* **MCZ** gate and two hadarmard gates on negated qubit."
   ]
  },
  {
   "cell_type": "markdown",
   "id": "c1275d92-5155-4d00-a213-0bcde20ba7d9",
   "metadata": {},
   "source": [
    "To implement this gate with more than two control qubits we use **MCX / MCZ** identity:"
   ]
  },
  {
   "cell_type": "markdown",
   "id": "15a6f02f-931c-40ba-8d83-462f5b51b5cd",
   "metadata": {},
   "source": [
    "<img src=\"mcxmcz.png\" alt=\"drawing\" width=\"500\"/>"
   ]
  },
  {
   "cell_type": "code",
   "execution_count": 20,
   "id": "0665110d-5498-4114-9cb3-e20c6cf62ee3",
   "metadata": {},
   "outputs": [
    {
     "name": "stdout",
     "output_type": "stream",
     "text": [
      "T  : |    0    |1|    2     |3|    4    |5|    6     |7|    8    |9|    10    |11|   12    |13|    14    |15|   16    |17|    18    |19|   20    |21|    22    |23|   24    |25|    26    |27|   28    |29|\n",
      "                                                                                                                                                                                                           \n",
      "q1 : -Rz(0.393)-C------------C------------------------C------------------------C--------------------------C--------------------------C--------------------------C--------------------------C---------------\n",
      "                |            |                        |                        |                          |                          |                          |                          |               \n",
      "q2 : -----------X-Rz(-0.393)-X-Rz(0.393)-C------------|-----------C------------|--------------------------|------------C-------------|--------------------------|------------C-------------|---------------\n",
      "                                         |            |           |            |                          |            |             |                          |            |             |               \n",
      "q3 : ------------------------------------X-Rz(-0.393)-X-Rz(0.393)-X-Rz(-0.393)-X--Rz(0.393)-C-------------|------------|-------------|------------C-------------|------------|-------------|---------------\n",
      "                                                                                            |             |            |             |            |             |            |             |               \n",
      "q4 : -H-------------------------------------------------------------------------------------X--Rz(-0.393)-X--Rz(0.393)-X--Rz(-0.393)-X--Rz(0.393)-X--Rz(-0.393)-X--Rz(0.393)-X--Rz(-0.393)-X--Rz(0.393)-H--\n",
      "\n",
      "T  : |    0    |1|    2     |3|    4    |5|    6     |7|    8    |9|    10    |11|   12    |13|    14    |15|   16    |17|    18    |19|   20    |21|    22    |23|   24    |25|    26    |27|   28    |29|\n"
     ]
    }
   ],
   "source": [
    "@circuit.subroutine(register=True)\n",
    "def mcx(controls, target):\n",
    "    L = len(controls)\n",
    "    circ = Circuit()\n",
    "    if L == 0:\n",
    "        circ.x(target)\n",
    "    elif L == 1:\n",
    "        circ.cnot(*controls, target)\n",
    "    elif L == 2:\n",
    "        circ.toffoli(controls, target)\n",
    "    else:\n",
    "        circ.h(target)\n",
    "        circ.mcz(controls + [target])\n",
    "        circ.h(target)\n",
    "    return circ\n",
    "\n",
    "my_circuit = Circuit().mcx([1,2,3], 4)\n",
    "print(my_circuit)"
   ]
  },
  {
   "cell_type": "markdown",
   "id": "622ad0a9-1ab0-4256-ae12-28be4bd67305",
   "metadata": {},
   "source": [
    "**NOTE:** If the circuit above does not fit on screen you can either copy and paste it to notepad or zoom out the page with notebook."
   ]
  },
  {
   "cell_type": "markdown",
   "id": "1a9fc348-0674-4e96-814d-ea13d43e538b",
   "metadata": {
    "tags": []
   },
   "source": [
    "### Solving single equation\n",
    "$$\\newcommand{\\ket}[1]{\\left|{#1}\\right\\rangle}$$\n",
    "\n",
    "We assume that You have basic knowledge of Grover's algorithm, especially how do Quantum Oracles work. If not, please check this example:\n",
    "\n",
    "https://github.com/aws/amazon-braket-examples/blob/main/examples/advanced_circuits_algorithms/Grover/Grover.ipynb\n",
    "\n",
    "Which leaves us with need to create such an oracle $O$ that: $O: \\ket{X} \\rightarrow -\\ket{X}$ iff vector $X$ is a solution to our equation system and $O: \\ket{X} \\rightarrow \\ket{X}$ otherwise.\n",
    "\n",
    "Let us start with an equation system composed of only one polynomial of three variables $p(X) = x_0x_1x_2 + x_0x_1 + x_0x_2 + x_1$ which has solutions in: $(x_0,x_1,x_2) \\in \\{(0,1,0);(0,1,1);(1,0,1)\\}$, that means we need an oracle that operates as follows:\n",
    "\n",
    "$$\n",
    "O: \\begin{cases}\n",
    "    \\ket{000} \\rightarrow  \\ket{000}\\\\\n",
    "    \\ket{001} \\rightarrow  \\ket{001}\\\\\n",
    "    \\ket{010} \\rightarrow -\\ket{010}\\\\\n",
    "    \\ket{011} \\rightarrow -\\ket{011}\\\\\n",
    "    \\ket{100} \\rightarrow  \\ket{100}\\\\\n",
    "    \\ket{101} \\rightarrow -\\ket{101}\\\\\n",
    "    \\ket{110} \\rightarrow  \\ket{110}\\\\\n",
    "    \\ket{111} \\rightarrow  \\ket{111}\n",
    "    \\end{cases}\n",
    "$$\n",
    "\n",
    "To do this, we add an additional qubit $\\ket{0}$ state, which gives us an arbitrary base state $ \\ket{X}\\ket{0} $, our goal now is to achieve state:\n",
    "$$ \\ket{X}\\ket{0\\oplus p(X)} = \\ket{X}\\ket{p(X)} = \\ket{X}\\ket{x_0x_1x_2 + x_0x_1 + x_0x_2 + x_1} $$\n",
    "\n",
    "It can be acomplished using controled negations, for example using **CNOT** gate where last qubit is negated an qubit with index $1$ is controling:\n",
    "$$CNOT_{1,3}\\ket{X}\\ket{0} = \\ket{X}\\ket{0\\oplus x_1} = \\ket{X}\\ket{x_1}$$\n",
    "\n",
    "Then, on that state we can use **CCNOT** gate to negate last qubit with controls on qubits with indecies $[0, 2]$:\n",
    "$$CCNOT_{[0,2], 3}\\ket{X}\\ket{x_1} = \\ket{X}\\ket{x_1\\oplus x_0x_2}$$\n",
    "\n",
    "We repeat this for each term in polynomial, finaly acquireing:\n",
    "$$\\ket{X}\\ket{x_0x_1x_2 + x_0x_1 + x_0x_2 + x_1} = \\ket{X}\\ket{p(X)}$$\n",
    "\n",
    "Obviously, the last qubit is either in state $\\ket{0}$ or $\\ket{1}$ and the latter appears if and only if $X$ is a solution of $p$.\n",
    "\n",
    "That means, that using **Z** rotation on it will produce state:\n",
    "$$\n",
    "Z: \\begin{cases}\n",
    "    \\ket{X}\\ket{p(X)} \\rightarrow  \\ket{X}\\ket{p(X)}, & \\mbox{if } p(X)=0\\\\\n",
    "    \\ket{X}\\ket{p(X)} \\rightarrow  -\\ket{X}\\ket{p(X)}, & \\mbox{if } p(X)=1\n",
    "\\end{cases}\n",
    "$$\n",
    "\n",
    "or in general:\n",
    "$$ Z: \\ket{X}\\ket{p(X)} \\rightarrow  (-1)^{p(X)}\\ket{X}\\ket{p(X)} $$\n",
    "\n",
    "The last thing needed is getting rid of auxillary qubit. We can easily notice that by repeating operations before rotation, which from now on we will call subroutine $(S)$, we get:\n",
    "$$ S: (-1)^{p(X)}\\ket{X}\\ket{p(X)} \\rightarrow (-1)^{p(X)}\\ket{X}\\ket{p(X)\\oplus p(X)} = (-1)^{p(X)}\\ket{X}\\ket{0}$$\n",
    "\n",
    "As now it has value independent from $X$ it can be ignored, leaving us with state $(-1)^{p(X)}\\ket{X}$, we can see that this is exactly what Quantum Oracle in Grover's algorithm should do."
   ]
  },
  {
   "cell_type": "code",
   "execution_count": 21,
   "id": "f0e4c0a1-1a1a-411d-b867-f6a3078601e3",
   "metadata": {},
   "outputs": [
    {
     "name": "stdout",
     "output_type": "stream",
     "text": [
      "|000>  0.327 -0.135i\n",
      "|001>  0.327 -0.135i\n",
      "|010> -0.327 +0.135i\n",
      "|011> -0.327 +0.135i\n",
      "|100>  0.327 -0.135i\n",
      "|101> -0.327 +0.135i\n",
      "|110>  0.327 -0.135i\n",
      "|111>  0.327 -0.135i\n"
     ]
    }
   ],
   "source": [
    "circ = Circuit()\n",
    "circ.h([0,1,2]) #equaly weighted superposition for all possible X  base states\n",
    "\n",
    "#start of S-subroutine\n",
    "circ.mcx([1], 3)\n",
    "circ.mcx([0, 2], 3)\n",
    "circ.mcx([0, 1], 3)\n",
    "circ.mcx([0, 1, 2], 3)\n",
    "#end of S-subroutine\n",
    "\n",
    "circ.z(3) #Z-rotation on last qubit\n",
    "\n",
    "#start of repeated S-subroutine\n",
    "circ.mcx([1], 3)\n",
    "circ.mcx([0, 2], 3)\n",
    "circ.mcx([0, 1], 3)\n",
    "circ.mcx([0, 1, 2], 3)\n",
    "#end of repeated S-subroutine\n",
    "\n",
    "_ = circ.state_vector()\n",
    "task = device.run(circ)\n",
    "result = task.result().values[0]\n",
    "for enum, value in enumerate(result):\n",
    "    if enum % 2 == 0: # We ignore last qubit if it's in |1>\n",
    "        print( f'|{enum//2:03b}> {value.real: 0.3f} {value.imag:+0.3f}i' )"
   ]
  },
  {
   "cell_type": "markdown",
   "id": "769f7016-f740-4126-b600-3ece3b794718",
   "metadata": {},
   "source": [
    "As we can see, states which are solutions have exactly the opposite coefficients of those which are not, proving that the method works.\n",
    "\n",
    "Now we will go to an example with more than one equation, let us have equation system with two polynomials $p_0, p_1$:\n",
    "$$\n",
    "\\begin{cases}\n",
    "    p_0\\\\\n",
    "    p_1\n",
    "\\end{cases}\n",
    "=\n",
    "\\begin{cases}\n",
    "    x_0x_1x_2 + x_0x_1 + x_0x_2 + x_1\\\\\n",
    "    x_0x_1 + x_0x_2 + x_2\n",
    "\\end{cases}\n",
    "$$\n",
    "\n",
    "$p_0$ is the same as $p$ in previous example and has solutions in $\\{(0,1,0);(0,1,1);(1,0,1)\\}$, \n",
    "\n",
    "$p_1$ has solutions in $\\{(0,1,1);(1,0,0);(1,1,0);(1,1,1)\\}$\n",
    "\n",
    "Therefore, whole system has only one solution in $(0,1,1)$\n",
    "\n",
    "To construct a new Oracle, we begin with base state $\\ket{X}$ and two additional ancillary qubits in state $\\ket{0}$, each one for one polynomial:\n",
    "$$\\ket{X}\\ket{0}\\ket{0}$$\n",
    "\n",
    "We know, that using subroutine $S_0 = S$ we can encode on second-last qubit solutions of first equtaion and acquire state:\n",
    "$$S_0: \\ket{X}\\ket{0}\\ket{0} \\rightarrow \\ket{X}\\ket{p_0(X)}\\ket{0}$$\n",
    "\n",
    "But, we can use analogical subroutine $S_1$, which will work on the last qubit and encode solutions of $p_1$. As it doesn't use first ancilla qubit, it's state will not change and after encoding we achieve:\n",
    "$$S_1: \\ket{X}\\ket{p_0(X)}\\ket{0} \\rightarrow  \\ket{X}\\ket{p_0(X)}\\ket{p_1(X)}$$\n",
    "\n",
    "Now, we can see, that ancillary qubits are in state $\\ket{1}\\ket{1}$ if and only if both equations are satisfied. Therefore if we want to invert phase on states which are solutions, we need to perform controlled **Z** rotation **(MCZ)** on every auxillary qubit simultaneously, which produces state:\n",
    "\n",
    "$$ MCZ_{[3,4]}: \\ket{X}\\ket{p_0(X)}\\ket{p_1(X)} \\rightarrow (-1)^{p_0(X)*p_1(X)}\\ket{X}\\ket{p_0(X)}\\ket{p_1(X)} $$\n",
    "\n",
    "Lastly, we put ancilla qubits in states $\\ket{0}$ by repeating subroutines $S_0, S_1$, the order doesn't matter as they doesn't mutate base state $\\ket{X}$ and use different ancilla qubits, leaving us with:\n",
    "$$ S_1S_0: (-1)^{p_0(X)*p_1(X)}\\ket{X}\\ket{p_0(X)}\\ket{p_1(X)} \\rightarrow (-1)^{p_0(X)*p_1(X)}\\ket{X}\\ket{0}\\ket{0}$$\n",
    "\n",
    "Again, last qubits can be ignored.\n",
    "\n",
    "Now, we will implement a general procedure, which we will call filtering, that executes $S_i$ - subroutine for each polynomial $p_i$ and test it with equation system from the example:"
   ]
  },
  {
   "cell_type": "code",
   "execution_count": 22,
   "id": "28e452be-e06e-4ff6-95a6-25f642dbb848",
   "metadata": {},
   "outputs": [
    {
     "name": "stdout",
     "output_type": "stream",
     "text": [
      "|00000>  0.347 -0.069i    |00001>  0.000 +0.000i    |00010>  0.000 -0.000i    |00011>  0.000 +0.000i\n",
      "|00100>  0.000 -0.000i    |00101>  0.347 -0.069i    |00110> -0.000 -0.000i    |00111> -0.000 -0.000i\n",
      "|01000>  0.000 -0.000i    |01001>  0.000 +0.000i    |01010>  0.347 -0.069i    |01011>  0.000 -0.000i\n",
      "|01100> -0.000 +0.000i    |01101> -0.000 +0.000i    |01110>  0.000 -0.000i    |01111>  0.347 -0.069i\n",
      "|10000>  0.347 -0.069i    |10001>  0.000 +0.000i    |10010>  0.000 +0.000i    |10011>  0.000 +0.000i\n",
      "|10100> -0.000 +0.000i    |10101> -0.000 -0.000i    |10110>  0.347 -0.069i    |10111> -0.000 +0.000i\n",
      "|11000>  0.000 +0.000i    |11001>  0.347 -0.069i    |11010> -0.000 +0.000i    |11011>  0.000 +0.000i\n",
      "|11100> -0.000 +0.000i    |11101>  0.347 -0.069i    |11110> -0.000 -0.000i    |11111>  0.000 +0.000i\n"
     ]
    }
   ],
   "source": [
    "@circuit.subroutine(register=True)\n",
    "def es_filter(ES, v_num):\n",
    "    circ = Circuit()\n",
    "    for i, eq in enumerate(ES):\n",
    "        for term in eq.terms(): #list of monomials in a polynomial\n",
    "            variables = [v.index() for v in term] # list of variables present in monomial\n",
    "            circ.mcx(variables, i + v_num) #those variables corespond with control qubits\n",
    "    return circ\n",
    "\n",
    "X = declare_ring( [Block('x', 3)] ) #Polynomial ring with 3 variables x0,x1,x2\n",
    "x0,x1,x2 = X.gens()\n",
    "\n",
    "sample_es = [\n",
    "    x0*x1*x2 + x0*x1 + x0*x2 + x1,\n",
    "    x0*x1 + x0*x2 + x2\n",
    "]\n",
    "\n",
    "circ = Circuit()\n",
    "circ.h([0,1,2])       #Superposition for each solution with equal cooefficient \n",
    "circ.es_filter(sample_es, 3) #Filtering solutions for each equation, 3 - as there are three variables\n",
    "\n",
    "_ = circ.state_vector()\n",
    "task = device.run(circ)\n",
    "result = task.result().values[0]\n",
    "for enum, value in enumerate(result):\n",
    "    print( f'|{enum:05b}> {value.real: 0.3f} {value.imag:+0.3f}i', end = \"\\n\" if (enum%4 == 3) else \"    \" )"
   ]
  },
  {
   "cell_type": "markdown",
   "id": "df268342-c4b1-4c40-a380-5542c51d9fb5",
   "metadata": {},
   "source": [
    "Now, we can very clearly see some dependencies by inspecting last qubits:\n",
    "- First column, last qubits in state $\\ket{00}$ - states which are not solutions for neither polynomial;\n",
    "- Second column, last qubits in state $\\ket{01}$ - states which are solutions for second polynomial, but not for first;\n",
    "- Third column, last qubits in state $\\ket{10}$ - states which are solutions for first polynomial, but not for second;\n",
    "- Fourth column, last qubits in state $\\ket{11}$ - states which are solutions for both polynomials;\n",
    "\n",
    "Again, we can see that the state $\\ket{X} = \\ket{011}$ is solution for the equation system.\n",
    "\n",
    "Having this procedure we can merge filtering, phase flipping and undoing the filtering into whole Oracle:"
   ]
  },
  {
   "cell_type": "code",
   "execution_count": 23,
   "id": "e5d007e5-3b73-48f4-aafc-c8f0c4107af9",
   "metadata": {},
   "outputs": [
    {
     "name": "stdout",
     "output_type": "stream",
     "text": [
      "|000>  0.135 -0.327i\n",
      "|001>  0.135 -0.327i\n",
      "|010>  0.135 -0.327i\n",
      "|011> -0.135 +0.327i\n",
      "|100>  0.135 -0.327i\n",
      "|101>  0.135 -0.327i\n",
      "|110>  0.135 -0.327i\n",
      "|111>  0.135 -0.327i\n"
     ]
    }
   ],
   "source": [
    "@circuit.subroutine(register=True)\n",
    "def es_oracle(ES, v_num): #v_num - number of variable qubits, it is necessery to speciffy as it is starting index for ancilla qubits\n",
    "    circ = Circuit()\n",
    "    circ.es_filter(ES, v_num)\n",
    "    mcz_list = list(range(v_num, v_num + len(ES))) #List of flipped ancilla qubits \n",
    "    circ.mcz(mcz_list)     \n",
    "    circ.es_filter(ES, v_num)\n",
    "    return circ\n",
    "\n",
    "circ = Circuit()\n",
    "circ.h([0,1,2])\n",
    "circ.es_oracle(sample_es, 3)\n",
    "\n",
    "_ = circ.state_vector()\n",
    "task = device.run(circ)\n",
    "result = task.result().values[0]\n",
    "for enum, value in enumerate(result):\n",
    "    if enum % 4 == 0: # We ignore last qubits if they are not in |00>\n",
    "        print( f'|{enum//4:03b}> {value.real: 0.3f} {value.imag:+0.3f}i' )"
   ]
  },
  {
   "cell_type": "markdown",
   "id": "9c83bcb6-e5a2-47f6-95e7-264a176c7b90",
   "metadata": {},
   "source": [
    "That leaves us with implementation of Grover's Diffusion opperator (Grover's mirror), which amplifies probabilties for flipped states:"
   ]
  },
  {
   "cell_type": "code",
   "execution_count": 24,
   "id": "15dd7db1-32ca-44d0-ab89-7bc67a612a4f",
   "metadata": {},
   "outputs": [
    {
     "name": "stdout",
     "output_type": "stream",
     "text": [
      "|000>  0.000 +0.177i P = 0.177\n",
      "|001>  0.000 +0.177i P = 0.177\n",
      "|010>  0.000 +0.177i P = 0.177\n",
      "|011>  0.000 +0.884i P = 0.884\n",
      "|100>  0.000 +0.177i P = 0.177\n",
      "|101> -0.000 +0.177i P = 0.177\n",
      "|110> -0.000 +0.177i P = 0.177\n",
      "|111> -0.000 +0.177i P = 0.177\n"
     ]
    }
   ],
   "source": [
    "@circuit.subroutine(register=True)\n",
    "def grover_mirror(qubits):\n",
    "    circ = Circuit()\n",
    "    circ.h(qubits)\n",
    "    circ.x(qubits)\n",
    "    circ.mcz(qubits)\n",
    "    circ.x(qubits)\n",
    "    circ.h(qubits)\n",
    "    return circ\n",
    "\n",
    "circ = Circuit()\n",
    "circ.h([0,1,2])\n",
    "circ.es_oracle(sample_es, 3)\n",
    "circ.grover_mirror([0,1,2])\n",
    "\n",
    "_ = circ.state_vector()\n",
    "task = device.run(circ)\n",
    "result = task.result().values[0]\n",
    "for enum, value in enumerate(result):\n",
    "    if enum % 4 == 0: # We ignore last qubit if it's in |1>\n",
    "        print( f'|{enum//4:03b}> {value.real: 0.3f} {value.imag:+0.3f}i P ={abs(value): 0.3f}' )"
   ]
  },
  {
   "cell_type": "markdown",
   "id": "e0e93fa6-3064-42cf-8856-4e7203f9489d",
   "metadata": {},
   "source": [
    "We can clearly see, that probability for measuring solution state $\\ket{011}$ has increased significantly\n",
    "\n",
    "Finally, we implement full Grover's Algorithm. We can either speciffy chosen numer of iterations or number of solutions so that implementation itself computes optimal iterations' count."
   ]
  },
  {
   "cell_type": "code",
   "execution_count": 25,
   "id": "959ed57d-048c-4acb-a1d8-eca080be8269",
   "metadata": {},
   "outputs": [],
   "source": [
    "@circuit.subroutine(register=True)\n",
    "def grover(ES, v_num, rounds=None, solutions=None):\n",
    "    if rounds is None:\n",
    "        if solutions:\n",
    "            solution_space = pow(2, v_num)\n",
    "            rounds = floor( pi/4 * sqrt(solution_space / solutions) ) \n",
    "        else: rounds = 1\n",
    "    print(rounds)\n",
    "    circ = Circuit()\n",
    "    circ.h(range(v_num))    \n",
    "    for i in range(rounds):\n",
    "        circ.es_oracle(ES, v_num)\n",
    "        circ.grover_mirror(range(v_num))\n",
    "    return circ"
   ]
  },
  {
   "cell_type": "markdown",
   "id": "5b45eca7-43a0-4f2d-911e-c288c3d0a553",
   "metadata": {},
   "source": [
    "Lastly, before we solve our equation system that cracks the cipher, we need to add a slight modification. While modeling it, we assumed that it is solved when all polynomials are equal to $0$, but the Oracle is constructed in such a way, that it finds solutions that produce value of $1$ from polynomials, therefore each equation has to be negated beforehand by adding $1$."
   ]
  },
  {
   "cell_type": "code",
   "execution_count": 26,
   "id": "abe5b2cf-6385-45bb-85f4-cdbe216d9d93",
   "metadata": {},
   "outputs": [],
   "source": [
    "for i in range(len(ES)):\n",
    "    ES[i] = ES[i] + I"
   ]
  },
  {
   "cell_type": "markdown",
   "id": "a54253bc-5f2e-4daa-92a5-9c24eb1f4c2e",
   "metadata": {},
   "source": [
    "Finally, we will simulate our circuit and check wether acquired measurments corespond to used key:"
   ]
  },
  {
   "cell_type": "code",
   "execution_count": 27,
   "id": "b327b9fe-cac8-47ad-9722-5ec25f2af8a5",
   "metadata": {},
   "outputs": [
    {
     "name": "stdout",
     "output_type": "stream",
     "text": [
      "3\n"
     ]
    },
    {
     "data": {
      "image/png": "[encoded data removed]",
      "text/plain": [
       "<Figure size 432x288 with 1 Axes>"
      ]
     },
     "metadata": {
      "needs_background": "light"
     },
     "output_type": "display_data"
    }
   ],
   "source": [
    "grover_solver_circuit = Circuit().grover(ES, 4, solutions = 1)\n",
    "task = device.run(grover_solver_circuit, shots=int(1000))\n",
    "result = task.result()\n",
    "counts = result.measurement_counts\n",
    "variable_bits = [c[0:4] for c in counts.keys()]\n",
    "plt.bar(variable_bits, counts.values())\n",
    "plt.xlabel('bitstrings');\n",
    "plt.ylabel('counts');\n",
    "_ = plt.xticks(rotation = 45)"
   ]
  },
  {
   "cell_type": "code",
   "execution_count": 28,
   "id": "65c53fee-4c9f-4197-aecb-c8d0c4a26004",
   "metadata": {},
   "outputs": [
    {
     "name": "stdout",
     "output_type": "stream",
     "text": [
      "key: |1010>, measurements: 962\n",
      "key: |0100>, measurements: 4\n",
      "key: |1111>, measurements: 1\n",
      "key: |1101>, measurements: 3\n",
      "key: |1011>, measurements: 3\n",
      "key: |0001>, measurements: 4\n",
      "key: |1110>, measurements: 4\n",
      "key: |0011>, measurements: 3\n",
      "key: |0000>, measurements: 2\n",
      "key: |0010>, measurements: 2\n",
      "key: |0110>, measurements: 5\n",
      "key: |1001>, measurements: 2\n",
      "key: |1000>, measurements: 1\n",
      "key: |0101>, measurements: 1\n",
      "key: |0111>, measurements: 1\n",
      "key: |1100>, measurements: 2\n"
     ]
    }
   ],
   "source": [
    "for c, v in zip(counts, counts.values()):\n",
    "    print(f'key: |{c[0:4]}>, measurements: {v}')"
   ]
  },
  {
   "cell_type": "markdown",
   "id": "b9c5d00c-4606-434d-ba73-d2ae111b8c3b",
   "metadata": {},
   "source": [
    "This concludes our attack, as we can see in over 95% of measurments we got a correct key, therefore the attack finishes with a success."
   ]
  },
  {
   "cell_type": "markdown",
   "id": "b929499e-8973-4703-8685-d1d0e2cd9704",
   "metadata": {},
   "source": [
    "## Cost estimations\n",
    "In this last part we will try to figure out costs of this attack, both in terms of gates and size of quantum register.\n",
    "\n",
    "The latter is quite straight forward. If **n=4** is size of *Secret Key* than we need **n=4** qubits that hold each possible state corresponding to some *Key* value, and we need **n=4** qubits for each equation as there in this case number of equations is always equal to the size of *Key*. Therefore, for *Key* of size **n** we need **2n** qubits register.\n",
    "\n",
    "Now, we can try to estimate costs in terms of quantum gates. This part if far more complicated and depends on some characteristic properties of cipher, for example degree of polynomials, nonlinearity of certain transformations etc. Thus we will estimate gate counts in this speciffic case.\n",
    "\n",
    "Our equation system has 4 polynomials, which after negation look like:\n",
    "- $e_0: k_1 + 1$\n",
    "- $e_1: k_0 + k_1k_2 + k_2k_3 + k_3$\n",
    "- $e_2: k_1 + k_3 + 1$\n",
    "- $e_3: k_0 + k_1k_2 + k_2k_3 + k_2 + k_3 + 1$\n",
    "\n",
    "In summary, there are exactly 8 monomials of degree 1, 4 monomials of degree 2 and 3 constants. In a single oracle execution every monomial requires two negations of some form, each for one of two executions of filtering subroutine. Therefore to perform the Oracle once we need:\n",
    "\n",
    "- $3*2 = 2$ **NOT** gates;\n",
    "- $8*2 = 16$ **CNOT** gates;\n",
    "- $4*2 = 8$ **Toffoli** gates;\n",
    "- $1$ **MCZ** gate with 4 control qubits (as there are 4 equations).\n",
    "\n",
    "For each execution of this oracle we need to perform Grover Diffusion on first 4 qubits once, which costs:\n",
    "- $4$ **H** gates;\n",
    "- $4$ **NOT** gates;\n",
    "- $1$ **MCZ** gate with 4 control qubits (as there are 4 qubits for 4 bits of key).\n",
    "\n",
    "In summary, one iteration of Grover's algortihm costs:\n",
    "- $6$ **NOT** gates;\n",
    "- $4$ **H** gates;\n",
    "- $20$ **CNOT** gates;\n",
    "- $8$ **Toffoli** gates;\n",
    "- $2$ **MCZ** gate with 4 control qubits.\n",
    "\n",
    "In this case, optimal number of iterations is 3, that plus initializing first 4 qubits in superposition using 4 **H** gates gives us cost of:\n",
    "- $3*6=18$ **NOT** gates;\n",
    "- $3*4+4=16$ **H** gates;\n",
    "- $3*20=60$ **CNOT** gates;\n",
    "- $3*8=24$ **Toffoli** gates;\n",
    "- $3*2=6$ **MCZ** gate with 4 control qubits.\n",
    "\n",
    "As both Toffoli gates and MCZ gates are not native, and are composition of **CNOT**s and other single qubit gates we can express theirs costs in terms of those."
   ]
  },
  {
   "cell_type": "code",
   "execution_count": 29,
   "id": "10b162bd-1a0b-4161-8ead-39c5620f08a6",
   "metadata": {},
   "outputs": [
    {
     "name": "stdout",
     "output_type": "stream",
     "text": [
      "T  : |0|1|2 |3|4|5|6 |7|8|9 |10|\n",
      "                                \n",
      "q1 : --------C--------C-C-T--C--\n",
      "             |        | |    |  \n",
      "q2 : ---C----|---C-T--|-X-Ti-X--\n",
      "        |    |   |    |         \n",
      "q3 : -H-X-Ti-X-T-X-Ti-X-T-H-----\n",
      "\n",
      "T  : |0|1|2 |3|4|5|6 |7|8|9 |10|\n"
     ]
    }
   ],
   "source": [
    "my_circuit = Circuit().toffoli([1, 2], 3)\n",
    "print(my_circuit)"
   ]
  },
  {
   "cell_type": "markdown",
   "id": "2967af83-63e4-47c6-979f-502bae204355",
   "metadata": {},
   "source": [
    "We see, that cost of single Toffoli gate is:\n",
    "- $2$ **H** gates;\n",
    "- $7$ **T / inverted T** gates;\n",
    "- $6$ **CNOT** gates;"
   ]
  },
  {
   "cell_type": "code",
   "execution_count": 30,
   "id": "240c855d-a8ec-44cd-84b7-43c6b41349d6",
   "metadata": {},
   "outputs": [
    {
     "name": "stdout",
     "output_type": "stream",
     "text": [
      "T  : |    0    |1|    2     |3|    4    |5|    6     |7|    8    |9|    10    |11|   12    |13|    14    |15|   16    |17|    18    |19|   20    |21|    22    |23|   24    |25|    26    |27|   28    |\n",
      "                                                                                                                                                                                                        \n",
      "q1 : -Rz(0.393)-C------------C------------------------C------------------------C--------------------------C--------------------------C--------------------------C--------------------------C------------\n",
      "                |            |                        |                        |                          |                          |                          |                          |            \n",
      "q2 : -----------X-Rz(-0.393)-X-Rz(0.393)-C------------|-----------C------------|--------------------------|------------C-------------|--------------------------|------------C-------------|------------\n",
      "                                         |            |           |            |                          |            |             |                          |            |             |            \n",
      "q3 : ------------------------------------X-Rz(-0.393)-X-Rz(0.393)-X-Rz(-0.393)-X--Rz(0.393)-C-------------|------------|-------------|------------C-------------|------------|-------------|------------\n",
      "                                                                                            |             |            |             |            |             |            |             |            \n",
      "q4 : ---------------------------------------------------------------------------------------X--Rz(-0.393)-X--Rz(0.393)-X--Rz(-0.393)-X--Rz(0.393)-X--Rz(-0.393)-X--Rz(0.393)-X--Rz(-0.393)-X--Rz(0.393)-\n",
      "\n",
      "T  : |    0    |1|    2     |3|    4    |5|    6     |7|    8    |9|    10    |11|   12    |13|    14    |15|   16    |17|    18    |19|   20    |21|    22    |23|   24    |25|    26    |27|   28    |\n"
     ]
    }
   ],
   "source": [
    "my_circuit = Circuit().mcz([1, 2, 3, 4])\n",
    "print(my_circuit)"
   ]
  },
  {
   "cell_type": "markdown",
   "id": "af88f166-ab85-4fed-abd8-97d1b935d0c0",
   "metadata": {},
   "source": [
    "For **MCZ** gate costs are:\n",
    "- $15$ **Z** gates with $\\pi/8$ or $-\\pi/8$ angle of rotation;\n",
    "- $14$ **CNOT** gates."
   ]
  },
  {
   "cell_type": "markdown",
   "id": "cf142fa7-b9b9-4c58-bd61-91f333ed2c30",
   "metadata": {},
   "source": [
    "Substituting costs of **MCZ** and **Toffoli** gates in terms of **CNOT** and single qubit gates gives us:\n",
    "- $18$ **NOT** gates;\n",
    "- $16+(24*2) = 64$ **H** gates;\n",
    "- $6*15 = 90$ **Z** type gates;\n",
    "- $24*7 = 168$ **T** type gates;\n",
    "- $60+(24*6)+(6*14) = 288$ **CNOT** gates;\n",
    "\n",
    "First four types of gates perform on single qubits and they have simmilar costs in quantum hardware and usually they are put together in one category as cost of single one qubit gate is almost irrelevant comparing to costs of **CNOT** gates. Therefore the cost of this attack is:\n",
    "- $18+64+90+168 = 340$ Single qubit gates;\n",
    "- $288$ **CNOT** gates;"
   ]
  },
  {
   "cell_type": "markdown",
   "id": "c9809132-2644-4290-b9cc-f7a6a07171b6",
   "metadata": {},
   "source": [
    "This concludes our presentation. We successfuly implemented a simple attack on a **Speck** cipher and properly computed its basic costs both in terms of number of operations and memory complexity. Please note that this attack is a very simple case study and is highly inefficient when used on bigger scale. We didn't account for classical computing costs of deriving the model and equations which actually might be the bottleneck of the attack. Next problem that might appear in larger scale is that a cost of gates with multiple controls grows exponentionaly with number of control qubits."
   ]
  },
  {
   "cell_type": "markdown",
   "id": "120e1f28-be08-490b-b2ad-6f80799f9eb5",
   "metadata": {},
   "source": [
    "## THE END\n",
    "Author: Adam Jagielski, jagielski.adamm@gmail.com"
   ]
  }
 ],
 "metadata": {
  "kernelspec": {
   "display_name": "SageMath 9.3",
   "language": "sage",
   "name": "sagemath"
  },
  "language_info": {
   "codemirror_mode": {
    "name": "ipython",
    "version": 3
   },
   "file_extension": ".py",
   "mimetype": "text/x-python",
   "name": "python",
   "nbconvert_exporter": "python",
   "pygments_lexer": "ipython3",
   "version": "3.9.7"
  }
 },
 "nbformat": 4,
 "nbformat_minor": 5
}
