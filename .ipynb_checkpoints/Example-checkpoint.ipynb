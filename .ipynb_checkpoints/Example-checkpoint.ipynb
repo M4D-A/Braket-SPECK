{
 "cells": [
  {
   "cell_type": "code",
   "execution_count": 1,
   "id": "43e525fc-8ee5-4595-bef7-aee0a750a80b",
   "metadata": {},
   "outputs": [],
   "source": [
    "import matplotlib.pyplot as plt\n",
    "%matplotlib inline"
   ]
  },
  {
   "cell_type": "code",
   "execution_count": 2,
   "id": "961fb4f7-4489-4aa3-aa0f-624e8b7e7176",
   "metadata": {},
   "outputs": [],
   "source": [
    "import numpy as np\n",
    "from braket.circuits import Circuit, Gate, Observable\n",
    "from braket.devices import LocalSimulator\n",
    "from braket.aws import AwsDevice"
   ]
  },
  {
   "cell_type": "code",
   "execution_count": 3,
   "id": "74f08ef0-1914-4f49-ae19-b569a658bf63",
   "metadata": {},
   "outputs": [],
   "source": [
    "managed_device = AwsDevice(\"arn:aws:braket:::device/quantum-simulator/amazon/sv1\")\n",
    "local_device = LocalSimulator()"
   ]
  },
  {
   "cell_type": "code",
   "execution_count": 4,
   "id": "16841628-2661-483a-9408-4c000e0f7586",
   "metadata": {},
   "outputs": [],
   "source": [
    "my_bucket = \"amazon-braket-m4da-bucket\"\n",
    "my_prefix = \"tests_21_09\"\n",
    "s3_folder = (my_bucket, my_prefix)"
   ]
  },
  {
   "cell_type": "code",
   "execution_count": 5,
   "id": "0ed21aa2-8d85-4a79-b661-28d60480a0be",
   "metadata": {},
   "outputs": [],
   "source": [
    "circuit = Circuit()\n",
    "_=circuit.h(0)\n",
    "_=circuit.cnot(0,1)"
   ]
  },
  {
   "cell_type": "code",
   "execution_count": 6,
   "id": "71760acd-6155-40ef-84ca-5973cf613d7c",
   "metadata": {},
   "outputs": [
    {
     "name": "stdout",
     "output_type": "stream",
     "text": [
      "Counter({'11': 61, '00': 39})\n"
     ]
    }
   ],
   "source": [
    "task = local_device.run(circuit, shots=int(100))\n",
    "result = task.result()\n",
    "counts = result.measurement_counts\n",
    "print(counts)"
   ]
  },
  {
   "cell_type": "code",
   "execution_count": 7,
   "id": "310c7d38-33fd-45ee-92b0-79bb0f7d65ed",
   "metadata": {},
   "outputs": [
    {
     "data": {
      "image/png": "[encoded data removed]",
      "text/plain": [
       "<Figure size 432x288 with 1 Axes>"
      ]
     },
     "metadata": {
      "needs_background": "light"
     },
     "output_type": "display_data"
    }
   ],
   "source": [
    "plt.bar(counts.keys(), counts.values());\n",
    "plt.xlabel('bitstrings');\n",
    "plt.ylabel('counts');"
   ]
  }
 ],
 "metadata": {
  "kernelspec": {
   "display_name": "SageMath 9.3",
   "language": "sage",
   "name": "sagemath"
  },
  "language_info": {
   "codemirror_mode": {
    "name": "ipython",
    "version": 3
   },
   "file_extension": ".py",
   "mimetype": "text/x-python",
   "name": "python",
   "nbconvert_exporter": "python",
   "pygments_lexer": "ipython3",
   "version": "3.9.7"
  },
  "toc-autonumbering": false,
  "toc-showcode": false,
  "toc-showmarkdowntxt": false,
  "toc-showtags": false
 },
 "nbformat": 4,
 "nbformat_minor": 5
}
