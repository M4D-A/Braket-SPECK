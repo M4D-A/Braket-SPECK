{
 "cells": [
  {
   "cell_type": "code",
   "execution_count": 34,
   "id": "43e525fc-8ee5-4595-bef7-aee0a750a80b",
   "metadata": {},
   "outputs": [],
   "source": [
    "import matplotlib.pyplot as plt\n",
    "%matplotlib inline\n",
    "import numpy as np\n",
    "from braket.circuits import Circuit, Gate, Observable\n",
    "from braket.devices import LocalSimulator\n",
    "from braket.aws import AwsDevice\n",
    "managed_device = AwsDevice(\"arn:aws:braket:::device/quantum-simulator/amazon/sv1\")\n",
    "local_device = LocalSimulator()\n",
    "\n",
    "my_bucket = \"amazon-braket-m4da-bucket\"\n",
    "my_prefix = \"tests_21_09\"\n",
    "s3_folder = (my_bucket, my_prefix)"
   ]
  },
  {
   "cell_type": "code",
   "execution_count": 35,
   "id": "0ed21aa2-8d85-4a79-b661-28d60480a0be",
   "metadata": {},
   "outputs": [],
   "source": [
    "circuit = Circuit()\n",
    "_=circuit.h(0)\n",
    "_=circuit.cnot(0,1)"
   ]
  },
  {
   "cell_type": "code",
   "execution_count": 36,
   "id": "71760acd-6155-40ef-84ca-5973cf613d7c",
   "metadata": {},
   "outputs": [
    {
     "name": "stdout",
     "output_type": "stream",
     "text": [
      "Counter({'00': 51, '11': 49})\n"
     ]
    }
   ],
   "source": [
    "# run circuit\n",
    "result = local_device.run(circuit, shots=int(100)).result()\n",
    "# get measurement shots\n",
    "counts = result.measurement_counts\n",
    "# print counts\n",
    "print(counts)"
   ]
  },
  {
   "cell_type": "code",
   "execution_count": 37,
   "id": "310c7d38-33fd-45ee-92b0-79bb0f7d65ed",
   "metadata": {},
   "outputs": [
    {
     "data": {
      "image/png": "[encoded data removed]",
      "text/plain": [
       "<Figure size 432x288 with 1 Axes>"
      ]
     },
     "metadata": {
      "needs_background": "light"
     },
     "output_type": "display_data"
    }
   ],
   "source": [
    "plt.bar(counts.keys(), counts.values());\n",
    "plt.xlabel('bitstrings');\n",
    "plt.ylabel('counts');"
   ]
  },
  {
   "cell_type": "code",
   "execution_count": null,
   "id": "a17bf29d-1ca8-41d4-8bed-e6be22229ffa",
   "metadata": {},
   "outputs": [],
   "source": []
  }
 ],
 "metadata": {
  "kernelspec": {
   "display_name": "SageMath 9.3",
   "language": "sage",
   "name": "sagemath"
  },
  "language_info": {
   "codemirror_mode": {
    "name": "ipython",
    "version": 3
   },
   "file_extension": ".py",
   "mimetype": "text/x-python",
   "name": "python",
   "nbconvert_exporter": "python",
   "pygments_lexer": "ipython3",
   "version": "3.9.7"
  }
 },
 "nbformat": 4,
 "nbformat_minor": 5
}
